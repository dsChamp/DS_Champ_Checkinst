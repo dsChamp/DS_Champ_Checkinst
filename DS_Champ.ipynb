{
  "nbformat": 4,
  "nbformat_minor": 0,
  "metadata": {
    "colab": {
      "provenance": [],
      "collapsed_sections": []
    },
    "kernelspec": {
      "name": "python3",
      "display_name": "Python 3"
    },
    "language_info": {
      "name": "python"
    }
  },
  "cells": [
    {
      "cell_type": "code",
      "execution_count": null,
      "metadata": {
        "id": "17UwDKLfl5qg"
      },
      "outputs": [],
      "source": [
        "#import libs\n",
        "import numpy as np\n",
        "import pandas as pd\n",
        "import seaborn as sns\n",
        "import warnings; warnings.filterwarnings(action='once')\n",
        "import os\n",
        "import gc\n",
        "import matplotlib.pyplot as plt\n",
        "import seaborn as sns\n",
        "\n",
        "from sklearn.preprocessing import LabelEncoder\n",
        "pd.set_option('display.max_columns', None)\n",
        "pd.set_option('display.max_rows', None)"
      ]
    },
    {
      "cell_type": "code",
      "source": [
        "from google.colab import drive\n",
        "drive.mount('/content/drive')"
      ],
      "metadata": {
        "colab": {
          "base_uri": "https://localhost:8080/"
        },
        "id": "IF8XEckumSez",
        "outputId": "44a1c5f4-aa22-4ba2-897d-ac52c99682e3"
      },
      "execution_count": null,
      "outputs": [
        {
          "output_type": "stream",
          "name": "stdout",
          "text": [
            "Drive already mounted at /content/drive; to attempt to forcibly remount, call drive.mount(\"/content/drive\", force_remount=True).\n"
          ]
        }
      ]
    },
    {
      "cell_type": "markdown",
      "source": [
        "Імпортуємо отриманий файл з диска\n"
      ],
      "metadata": {
        "id": "sX6cCMA10LJ9"
      }
    },
    {
      "cell_type": "code",
      "source": [
        "df = pd.read_csv('/content/drive/MyDrive/TEST TASK (dataset).csv')"
      ],
      "metadata": {
        "id": "Qu9MW-l5mOwV"
      },
      "execution_count": null,
      "outputs": []
    },
    {
      "cell_type": "code",
      "source": [
        "df.head()"
      ],
      "metadata": {
        "colab": {
          "base_uri": "https://localhost:8080/",
          "height": 270
        },
        "id": "cJZ5u0GZmlHc",
        "outputId": "62602eff-c914-4eed-dceb-60946d497627"
      },
      "execution_count": null,
      "outputs": [
        {
          "output_type": "execute_result",
          "data": {
            "text/plain": [
              "   total_sessions_day0  total_sessions_day1  total_sessions_day3  \\\n",
              "0                  1.0                  1.0                  1.0   \n",
              "1                  1.0                  1.0                  1.0   \n",
              "2                  1.0                  2.0                  2.0   \n",
              "3                  1.0                  1.0                  1.0   \n",
              "4                  1.0                  1.0                  1.0   \n",
              "\n",
              "   total_sessions_day7  chapters_finished_day0  chapters_finished_day1  \\\n",
              "0                  1.0                       0                       0   \n",
              "1                  1.0                       0                       0   \n",
              "2                  2.0                       0                       0   \n",
              "3                  1.0                       0                       0   \n",
              "4                  1.0                       0                       0   \n",
              "\n",
              "   chapters_finished_day3  chapters_finished_day7  chapters_opened_day0  \\\n",
              "0                       0                       0                     0   \n",
              "1                       0                       0                     0   \n",
              "2                       0                       0                     0   \n",
              "3                       0                       0                     0   \n",
              "4                       0                       0                     0   \n",
              "\n",
              "   chapters_opened_day1  chapters_opened_day3  chapters_opened_day7  \\\n",
              "0                     0                     0                     0   \n",
              "1                     0                     0                     0   \n",
              "2                     0                     0                     0   \n",
              "3                     0                     0                     0   \n",
              "4                     0                     0                     0   \n",
              "\n",
              "   chapters_closed_day0  chapters_closed_day1  chapters_closed_day3  \\\n",
              "0                     0                     0                     0   \n",
              "1                     0                     0                     0   \n",
              "2                     0                     0                     0   \n",
              "3                     0                     0                     0   \n",
              "4                     0                     0                     0   \n",
              "\n",
              "   chapters_closed_day7  diamonds_received_day0  diamonds_received_day1  \\\n",
              "0                     0                       0                       0   \n",
              "1                     0                       0                       0   \n",
              "2                     0                       0                       0   \n",
              "3                     0                       0                       0   \n",
              "4                     0                       0                       0   \n",
              "\n",
              "   diamonds_received_day3  diamonds_received_day7  diamonds_spent_day0  \\\n",
              "0                       0                       0                    0   \n",
              "1                       0                       0                    0   \n",
              "2                       0                       0                    0   \n",
              "3                       0                       0                    0   \n",
              "4                       0                       0                    0   \n",
              "\n",
              "   diamonds_spent_day1  diamonds_spent_day3  diamonds_spent_day7  \\\n",
              "0                    0                    0                    0   \n",
              "1                    0                    0                    0   \n",
              "2                    0                    0                    0   \n",
              "3                    0                    0                    0   \n",
              "4                    0                    0                    0   \n",
              "\n",
              "   tickets_spent_day0  tickets_spent_day1  tickets_spent_day3  \\\n",
              "0                   0                   0                   0   \n",
              "1                   0                   0                   0   \n",
              "2                   0                   0                   0   \n",
              "3                   0                   0                   0   \n",
              "4                   0                   0                   0   \n",
              "\n",
              "   tickets_spent_day7  retained_day1  retained_day3  retained_day7  \\\n",
              "0                   0              0              0              0   \n",
              "1                   0              0              0              0   \n",
              "2                   0              1              0              0   \n",
              "3                   0              0              0              0   \n",
              "4                   0              0              0              0   \n",
              "\n",
              "   chapters_finished_session1  chapters_finished_session3  \\\n",
              "0                           0                           0   \n",
              "1                           0                           0   \n",
              "2                           0                           0   \n",
              "3                           0                           0   \n",
              "4                           0                           0   \n",
              "\n",
              "   chapters_finished_session9  chapters_opened_session1  \\\n",
              "0                           0                         0   \n",
              "1                           0                         0   \n",
              "2                           0                         0   \n",
              "3                           0                         0   \n",
              "4                           0                         0   \n",
              "\n",
              "   chapters_opened_session3  chapters_opened_session9  \\\n",
              "0                         0                         0   \n",
              "1                         0                         0   \n",
              "2                         0                         0   \n",
              "3                         0                         0   \n",
              "4                         0                         0   \n",
              "\n",
              "   chapters_closed_session1  chapters_closed_session3  \\\n",
              "0                         0                         0   \n",
              "1                         0                         0   \n",
              "2                         0                         0   \n",
              "3                         0                         0   \n",
              "4                         0                         0   \n",
              "\n",
              "   chapters_closed_session9  diamonds_spent_session1  diamonds_spent_session3  \\\n",
              "0                         0                        0                        0   \n",
              "1                         0                        0                        0   \n",
              "2                         0                        0                        0   \n",
              "3                         0                        0                        0   \n",
              "4                         0                        0                        0   \n",
              "\n",
              "   diamonds_spent_session9  tickets_spent_session1  tickets_spent_session3  \\\n",
              "0                        0                       0                       0   \n",
              "1                        0                       0                       0   \n",
              "2                        0                       0                       0   \n",
              "3                        0                       0                       0   \n",
              "4                        0                       0                       0   \n",
              "\n",
              "   tickets_spent_session9  app_sub_ltv_day0  app_sub_ltv_day1  \\\n",
              "0                       0               0.0               0.0   \n",
              "1                       0               0.0               0.0   \n",
              "2                       0               0.0               0.0   \n",
              "3                       0               0.0               0.0   \n",
              "4                       0               0.0               0.0   \n",
              "\n",
              "   app_sub_ltv_day3  app_iap_ltv_day0  app_iap_ltv_day1  app_iap_ltv_day3  \\\n",
              "0               0.0               0.0               0.0               0.0   \n",
              "1               0.0               0.0               0.0               0.0   \n",
              "2               0.0               0.0               0.0               0.0   \n",
              "3               0.0               0.0               0.0               0.0   \n",
              "4               0.0               0.0               0.0               0.0   \n",
              "\n",
              "  media_source install_date country_code  ad_ltv_day0  ad_ltv_day1  \\\n",
              "0    SOURCE_23   2021-12-03  COUNTRY_135          0.0          0.0   \n",
              "1     SOURCE_2   2021-12-03  COUNTRY_141          0.0          0.0   \n",
              "2    SOURCE_17   2021-12-03  COUNTRY_141          0.0          0.0   \n",
              "3    SOURCE_23   2021-12-03  COUNTRY_141          0.0          0.0   \n",
              "4     SOURCE_1   2021-12-03  COUNTRY_203          0.0          0.0   \n",
              "\n",
              "   ad_ltv_day3 platform  target_sub_ltv_day30  target_iap_ltv_day30  \\\n",
              "0          0.0      ios                   0.0                   0.0   \n",
              "1          0.0  android                   0.0                   0.0   \n",
              "2          0.0  android                   0.0                   0.0   \n",
              "3          0.0      ios                   0.0                   0.0   \n",
              "4          0.0  android                   0.0                   0.0   \n",
              "\n",
              "   target_ad_ltv_day30  target_full_ltv_day30  \n",
              "0                  0.0                    0.0  \n",
              "1                  0.0                    0.0  \n",
              "2                  0.0                    0.0  \n",
              "3                  0.0                    0.0  \n",
              "4                  0.0                    0.0  "
            ],
            "text/html": [
              "\n",
              "  <div id=\"df-ec4f9a8a-da7f-4065-81ad-91bc3b1ed20a\">\n",
              "    <div class=\"colab-df-container\">\n",
              "      <div>\n",
              "<style scoped>\n",
              "    .dataframe tbody tr th:only-of-type {\n",
              "        vertical-align: middle;\n",
              "    }\n",
              "\n",
              "    .dataframe tbody tr th {\n",
              "        vertical-align: top;\n",
              "    }\n",
              "\n",
              "    .dataframe thead th {\n",
              "        text-align: right;\n",
              "    }\n",
              "</style>\n",
              "<table border=\"1\" class=\"dataframe\">\n",
              "  <thead>\n",
              "    <tr style=\"text-align: right;\">\n",
              "      <th></th>\n",
              "      <th>total_sessions_day0</th>\n",
              "      <th>total_sessions_day1</th>\n",
              "      <th>total_sessions_day3</th>\n",
              "      <th>total_sessions_day7</th>\n",
              "      <th>chapters_finished_day0</th>\n",
              "      <th>chapters_finished_day1</th>\n",
              "      <th>chapters_finished_day3</th>\n",
              "      <th>chapters_finished_day7</th>\n",
              "      <th>chapters_opened_day0</th>\n",
              "      <th>chapters_opened_day1</th>\n",
              "      <th>chapters_opened_day3</th>\n",
              "      <th>chapters_opened_day7</th>\n",
              "      <th>chapters_closed_day0</th>\n",
              "      <th>chapters_closed_day1</th>\n",
              "      <th>chapters_closed_day3</th>\n",
              "      <th>chapters_closed_day7</th>\n",
              "      <th>diamonds_received_day0</th>\n",
              "      <th>diamonds_received_day1</th>\n",
              "      <th>diamonds_received_day3</th>\n",
              "      <th>diamonds_received_day7</th>\n",
              "      <th>diamonds_spent_day0</th>\n",
              "      <th>diamonds_spent_day1</th>\n",
              "      <th>diamonds_spent_day3</th>\n",
              "      <th>diamonds_spent_day7</th>\n",
              "      <th>tickets_spent_day0</th>\n",
              "      <th>tickets_spent_day1</th>\n",
              "      <th>tickets_spent_day3</th>\n",
              "      <th>tickets_spent_day7</th>\n",
              "      <th>retained_day1</th>\n",
              "      <th>retained_day3</th>\n",
              "      <th>retained_day7</th>\n",
              "      <th>chapters_finished_session1</th>\n",
              "      <th>chapters_finished_session3</th>\n",
              "      <th>chapters_finished_session9</th>\n",
              "      <th>chapters_opened_session1</th>\n",
              "      <th>chapters_opened_session3</th>\n",
              "      <th>chapters_opened_session9</th>\n",
              "      <th>chapters_closed_session1</th>\n",
              "      <th>chapters_closed_session3</th>\n",
              "      <th>chapters_closed_session9</th>\n",
              "      <th>diamonds_spent_session1</th>\n",
              "      <th>diamonds_spent_session3</th>\n",
              "      <th>diamonds_spent_session9</th>\n",
              "      <th>tickets_spent_session1</th>\n",
              "      <th>tickets_spent_session3</th>\n",
              "      <th>tickets_spent_session9</th>\n",
              "      <th>app_sub_ltv_day0</th>\n",
              "      <th>app_sub_ltv_day1</th>\n",
              "      <th>app_sub_ltv_day3</th>\n",
              "      <th>app_iap_ltv_day0</th>\n",
              "      <th>app_iap_ltv_day1</th>\n",
              "      <th>app_iap_ltv_day3</th>\n",
              "      <th>media_source</th>\n",
              "      <th>install_date</th>\n",
              "      <th>country_code</th>\n",
              "      <th>ad_ltv_day0</th>\n",
              "      <th>ad_ltv_day1</th>\n",
              "      <th>ad_ltv_day3</th>\n",
              "      <th>platform</th>\n",
              "      <th>target_sub_ltv_day30</th>\n",
              "      <th>target_iap_ltv_day30</th>\n",
              "      <th>target_ad_ltv_day30</th>\n",
              "      <th>target_full_ltv_day30</th>\n",
              "    </tr>\n",
              "  </thead>\n",
              "  <tbody>\n",
              "    <tr>\n",
              "      <th>0</th>\n",
              "      <td>1.0</td>\n",
              "      <td>1.0</td>\n",
              "      <td>1.0</td>\n",
              "      <td>1.0</td>\n",
              "      <td>0</td>\n",
              "      <td>0</td>\n",
              "      <td>0</td>\n",
              "      <td>0</td>\n",
              "      <td>0</td>\n",
              "      <td>0</td>\n",
              "      <td>0</td>\n",
              "      <td>0</td>\n",
              "      <td>0</td>\n",
              "      <td>0</td>\n",
              "      <td>0</td>\n",
              "      <td>0</td>\n",
              "      <td>0</td>\n",
              "      <td>0</td>\n",
              "      <td>0</td>\n",
              "      <td>0</td>\n",
              "      <td>0</td>\n",
              "      <td>0</td>\n",
              "      <td>0</td>\n",
              "      <td>0</td>\n",
              "      <td>0</td>\n",
              "      <td>0</td>\n",
              "      <td>0</td>\n",
              "      <td>0</td>\n",
              "      <td>0</td>\n",
              "      <td>0</td>\n",
              "      <td>0</td>\n",
              "      <td>0</td>\n",
              "      <td>0</td>\n",
              "      <td>0</td>\n",
              "      <td>0</td>\n",
              "      <td>0</td>\n",
              "      <td>0</td>\n",
              "      <td>0</td>\n",
              "      <td>0</td>\n",
              "      <td>0</td>\n",
              "      <td>0</td>\n",
              "      <td>0</td>\n",
              "      <td>0</td>\n",
              "      <td>0</td>\n",
              "      <td>0</td>\n",
              "      <td>0</td>\n",
              "      <td>0.0</td>\n",
              "      <td>0.0</td>\n",
              "      <td>0.0</td>\n",
              "      <td>0.0</td>\n",
              "      <td>0.0</td>\n",
              "      <td>0.0</td>\n",
              "      <td>SOURCE_23</td>\n",
              "      <td>2021-12-03</td>\n",
              "      <td>COUNTRY_135</td>\n",
              "      <td>0.0</td>\n",
              "      <td>0.0</td>\n",
              "      <td>0.0</td>\n",
              "      <td>ios</td>\n",
              "      <td>0.0</td>\n",
              "      <td>0.0</td>\n",
              "      <td>0.0</td>\n",
              "      <td>0.0</td>\n",
              "    </tr>\n",
              "    <tr>\n",
              "      <th>1</th>\n",
              "      <td>1.0</td>\n",
              "      <td>1.0</td>\n",
              "      <td>1.0</td>\n",
              "      <td>1.0</td>\n",
              "      <td>0</td>\n",
              "      <td>0</td>\n",
              "      <td>0</td>\n",
              "      <td>0</td>\n",
              "      <td>0</td>\n",
              "      <td>0</td>\n",
              "      <td>0</td>\n",
              "      <td>0</td>\n",
              "      <td>0</td>\n",
              "      <td>0</td>\n",
              "      <td>0</td>\n",
              "      <td>0</td>\n",
              "      <td>0</td>\n",
              "      <td>0</td>\n",
              "      <td>0</td>\n",
              "      <td>0</td>\n",
              "      <td>0</td>\n",
              "      <td>0</td>\n",
              "      <td>0</td>\n",
              "      <td>0</td>\n",
              "      <td>0</td>\n",
              "      <td>0</td>\n",
              "      <td>0</td>\n",
              "      <td>0</td>\n",
              "      <td>0</td>\n",
              "      <td>0</td>\n",
              "      <td>0</td>\n",
              "      <td>0</td>\n",
              "      <td>0</td>\n",
              "      <td>0</td>\n",
              "      <td>0</td>\n",
              "      <td>0</td>\n",
              "      <td>0</td>\n",
              "      <td>0</td>\n",
              "      <td>0</td>\n",
              "      <td>0</td>\n",
              "      <td>0</td>\n",
              "      <td>0</td>\n",
              "      <td>0</td>\n",
              "      <td>0</td>\n",
              "      <td>0</td>\n",
              "      <td>0</td>\n",
              "      <td>0.0</td>\n",
              "      <td>0.0</td>\n",
              "      <td>0.0</td>\n",
              "      <td>0.0</td>\n",
              "      <td>0.0</td>\n",
              "      <td>0.0</td>\n",
              "      <td>SOURCE_2</td>\n",
              "      <td>2021-12-03</td>\n",
              "      <td>COUNTRY_141</td>\n",
              "      <td>0.0</td>\n",
              "      <td>0.0</td>\n",
              "      <td>0.0</td>\n",
              "      <td>android</td>\n",
              "      <td>0.0</td>\n",
              "      <td>0.0</td>\n",
              "      <td>0.0</td>\n",
              "      <td>0.0</td>\n",
              "    </tr>\n",
              "    <tr>\n",
              "      <th>2</th>\n",
              "      <td>1.0</td>\n",
              "      <td>2.0</td>\n",
              "      <td>2.0</td>\n",
              "      <td>2.0</td>\n",
              "      <td>0</td>\n",
              "      <td>0</td>\n",
              "      <td>0</td>\n",
              "      <td>0</td>\n",
              "      <td>0</td>\n",
              "      <td>0</td>\n",
              "      <td>0</td>\n",
              "      <td>0</td>\n",
              "      <td>0</td>\n",
              "      <td>0</td>\n",
              "      <td>0</td>\n",
              "      <td>0</td>\n",
              "      <td>0</td>\n",
              "      <td>0</td>\n",
              "      <td>0</td>\n",
              "      <td>0</td>\n",
              "      <td>0</td>\n",
              "      <td>0</td>\n",
              "      <td>0</td>\n",
              "      <td>0</td>\n",
              "      <td>0</td>\n",
              "      <td>0</td>\n",
              "      <td>0</td>\n",
              "      <td>0</td>\n",
              "      <td>1</td>\n",
              "      <td>0</td>\n",
              "      <td>0</td>\n",
              "      <td>0</td>\n",
              "      <td>0</td>\n",
              "      <td>0</td>\n",
              "      <td>0</td>\n",
              "      <td>0</td>\n",
              "      <td>0</td>\n",
              "      <td>0</td>\n",
              "      <td>0</td>\n",
              "      <td>0</td>\n",
              "      <td>0</td>\n",
              "      <td>0</td>\n",
              "      <td>0</td>\n",
              "      <td>0</td>\n",
              "      <td>0</td>\n",
              "      <td>0</td>\n",
              "      <td>0.0</td>\n",
              "      <td>0.0</td>\n",
              "      <td>0.0</td>\n",
              "      <td>0.0</td>\n",
              "      <td>0.0</td>\n",
              "      <td>0.0</td>\n",
              "      <td>SOURCE_17</td>\n",
              "      <td>2021-12-03</td>\n",
              "      <td>COUNTRY_141</td>\n",
              "      <td>0.0</td>\n",
              "      <td>0.0</td>\n",
              "      <td>0.0</td>\n",
              "      <td>android</td>\n",
              "      <td>0.0</td>\n",
              "      <td>0.0</td>\n",
              "      <td>0.0</td>\n",
              "      <td>0.0</td>\n",
              "    </tr>\n",
              "    <tr>\n",
              "      <th>3</th>\n",
              "      <td>1.0</td>\n",
              "      <td>1.0</td>\n",
              "      <td>1.0</td>\n",
              "      <td>1.0</td>\n",
              "      <td>0</td>\n",
              "      <td>0</td>\n",
              "      <td>0</td>\n",
              "      <td>0</td>\n",
              "      <td>0</td>\n",
              "      <td>0</td>\n",
              "      <td>0</td>\n",
              "      <td>0</td>\n",
              "      <td>0</td>\n",
              "      <td>0</td>\n",
              "      <td>0</td>\n",
              "      <td>0</td>\n",
              "      <td>0</td>\n",
              "      <td>0</td>\n",
              "      <td>0</td>\n",
              "      <td>0</td>\n",
              "      <td>0</td>\n",
              "      <td>0</td>\n",
              "      <td>0</td>\n",
              "      <td>0</td>\n",
              "      <td>0</td>\n",
              "      <td>0</td>\n",
              "      <td>0</td>\n",
              "      <td>0</td>\n",
              "      <td>0</td>\n",
              "      <td>0</td>\n",
              "      <td>0</td>\n",
              "      <td>0</td>\n",
              "      <td>0</td>\n",
              "      <td>0</td>\n",
              "      <td>0</td>\n",
              "      <td>0</td>\n",
              "      <td>0</td>\n",
              "      <td>0</td>\n",
              "      <td>0</td>\n",
              "      <td>0</td>\n",
              "      <td>0</td>\n",
              "      <td>0</td>\n",
              "      <td>0</td>\n",
              "      <td>0</td>\n",
              "      <td>0</td>\n",
              "      <td>0</td>\n",
              "      <td>0.0</td>\n",
              "      <td>0.0</td>\n",
              "      <td>0.0</td>\n",
              "      <td>0.0</td>\n",
              "      <td>0.0</td>\n",
              "      <td>0.0</td>\n",
              "      <td>SOURCE_23</td>\n",
              "      <td>2021-12-03</td>\n",
              "      <td>COUNTRY_141</td>\n",
              "      <td>0.0</td>\n",
              "      <td>0.0</td>\n",
              "      <td>0.0</td>\n",
              "      <td>ios</td>\n",
              "      <td>0.0</td>\n",
              "      <td>0.0</td>\n",
              "      <td>0.0</td>\n",
              "      <td>0.0</td>\n",
              "    </tr>\n",
              "    <tr>\n",
              "      <th>4</th>\n",
              "      <td>1.0</td>\n",
              "      <td>1.0</td>\n",
              "      <td>1.0</td>\n",
              "      <td>1.0</td>\n",
              "      <td>0</td>\n",
              "      <td>0</td>\n",
              "      <td>0</td>\n",
              "      <td>0</td>\n",
              "      <td>0</td>\n",
              "      <td>0</td>\n",
              "      <td>0</td>\n",
              "      <td>0</td>\n",
              "      <td>0</td>\n",
              "      <td>0</td>\n",
              "      <td>0</td>\n",
              "      <td>0</td>\n",
              "      <td>0</td>\n",
              "      <td>0</td>\n",
              "      <td>0</td>\n",
              "      <td>0</td>\n",
              "      <td>0</td>\n",
              "      <td>0</td>\n",
              "      <td>0</td>\n",
              "      <td>0</td>\n",
              "      <td>0</td>\n",
              "      <td>0</td>\n",
              "      <td>0</td>\n",
              "      <td>0</td>\n",
              "      <td>0</td>\n",
              "      <td>0</td>\n",
              "      <td>0</td>\n",
              "      <td>0</td>\n",
              "      <td>0</td>\n",
              "      <td>0</td>\n",
              "      <td>0</td>\n",
              "      <td>0</td>\n",
              "      <td>0</td>\n",
              "      <td>0</td>\n",
              "      <td>0</td>\n",
              "      <td>0</td>\n",
              "      <td>0</td>\n",
              "      <td>0</td>\n",
              "      <td>0</td>\n",
              "      <td>0</td>\n",
              "      <td>0</td>\n",
              "      <td>0</td>\n",
              "      <td>0.0</td>\n",
              "      <td>0.0</td>\n",
              "      <td>0.0</td>\n",
              "      <td>0.0</td>\n",
              "      <td>0.0</td>\n",
              "      <td>0.0</td>\n",
              "      <td>SOURCE_1</td>\n",
              "      <td>2021-12-03</td>\n",
              "      <td>COUNTRY_203</td>\n",
              "      <td>0.0</td>\n",
              "      <td>0.0</td>\n",
              "      <td>0.0</td>\n",
              "      <td>android</td>\n",
              "      <td>0.0</td>\n",
              "      <td>0.0</td>\n",
              "      <td>0.0</td>\n",
              "      <td>0.0</td>\n",
              "    </tr>\n",
              "  </tbody>\n",
              "</table>\n",
              "</div>\n",
              "      <button class=\"colab-df-convert\" onclick=\"convertToInteractive('df-ec4f9a8a-da7f-4065-81ad-91bc3b1ed20a')\"\n",
              "              title=\"Convert this dataframe to an interactive table.\"\n",
              "              style=\"display:none;\">\n",
              "        \n",
              "  <svg xmlns=\"http://www.w3.org/2000/svg\" height=\"24px\"viewBox=\"0 0 24 24\"\n",
              "       width=\"24px\">\n",
              "    <path d=\"M0 0h24v24H0V0z\" fill=\"none\"/>\n",
              "    <path d=\"M18.56 5.44l.94 2.06.94-2.06 2.06-.94-2.06-.94-.94-2.06-.94 2.06-2.06.94zm-11 1L8.5 8.5l.94-2.06 2.06-.94-2.06-.94L8.5 2.5l-.94 2.06-2.06.94zm10 10l.94 2.06.94-2.06 2.06-.94-2.06-.94-.94-2.06-.94 2.06-2.06.94z\"/><path d=\"M17.41 7.96l-1.37-1.37c-.4-.4-.92-.59-1.43-.59-.52 0-1.04.2-1.43.59L10.3 9.45l-7.72 7.72c-.78.78-.78 2.05 0 2.83L4 21.41c.39.39.9.59 1.41.59.51 0 1.02-.2 1.41-.59l7.78-7.78 2.81-2.81c.8-.78.8-2.07 0-2.86zM5.41 20L4 18.59l7.72-7.72 1.47 1.35L5.41 20z\"/>\n",
              "  </svg>\n",
              "      </button>\n",
              "      \n",
              "  <style>\n",
              "    .colab-df-container {\n",
              "      display:flex;\n",
              "      flex-wrap:wrap;\n",
              "      gap: 12px;\n",
              "    }\n",
              "\n",
              "    .colab-df-convert {\n",
              "      background-color: #E8F0FE;\n",
              "      border: none;\n",
              "      border-radius: 50%;\n",
              "      cursor: pointer;\n",
              "      display: none;\n",
              "      fill: #1967D2;\n",
              "      height: 32px;\n",
              "      padding: 0 0 0 0;\n",
              "      width: 32px;\n",
              "    }\n",
              "\n",
              "    .colab-df-convert:hover {\n",
              "      background-color: #E2EBFA;\n",
              "      box-shadow: 0px 1px 2px rgba(60, 64, 67, 0.3), 0px 1px 3px 1px rgba(60, 64, 67, 0.15);\n",
              "      fill: #174EA6;\n",
              "    }\n",
              "\n",
              "    [theme=dark] .colab-df-convert {\n",
              "      background-color: #3B4455;\n",
              "      fill: #D2E3FC;\n",
              "    }\n",
              "\n",
              "    [theme=dark] .colab-df-convert:hover {\n",
              "      background-color: #434B5C;\n",
              "      box-shadow: 0px 1px 3px 1px rgba(0, 0, 0, 0.15);\n",
              "      filter: drop-shadow(0px 1px 2px rgba(0, 0, 0, 0.3));\n",
              "      fill: #FFFFFF;\n",
              "    }\n",
              "  </style>\n",
              "\n",
              "      <script>\n",
              "        const buttonEl =\n",
              "          document.querySelector('#df-ec4f9a8a-da7f-4065-81ad-91bc3b1ed20a button.colab-df-convert');\n",
              "        buttonEl.style.display =\n",
              "          google.colab.kernel.accessAllowed ? 'block' : 'none';\n",
              "\n",
              "        async function convertToInteractive(key) {\n",
              "          const element = document.querySelector('#df-ec4f9a8a-da7f-4065-81ad-91bc3b1ed20a');\n",
              "          const dataTable =\n",
              "            await google.colab.kernel.invokeFunction('convertToInteractive',\n",
              "                                                     [key], {});\n",
              "          if (!dataTable) return;\n",
              "\n",
              "          const docLinkHtml = 'Like what you see? Visit the ' +\n",
              "            '<a target=\"_blank\" href=https://colab.research.google.com/notebooks/data_table.ipynb>data table notebook</a>'\n",
              "            + ' to learn more about interactive tables.';\n",
              "          element.innerHTML = '';\n",
              "          dataTable['output_type'] = 'display_data';\n",
              "          await google.colab.output.renderOutput(dataTable, element);\n",
              "          const docLink = document.createElement('div');\n",
              "          docLink.innerHTML = docLinkHtml;\n",
              "          element.appendChild(docLink);\n",
              "        }\n",
              "      </script>\n",
              "    </div>\n",
              "  </div>\n",
              "  "
            ]
          },
          "metadata": {},
          "execution_count": 7
        }
      ]
    },
    {
      "cell_type": "markdown",
      "source": [
        "Створимо новий датасет для прогнозування. Для цього прибираємо колонки, що дають нам лік даних при прогнозуванні. Також при проведенні EDA аналізу не було виявленно залежності від дати встановлення, тому видалимо її для облегшення нашого датасету."
      ],
      "metadata": {
        "id": "Icq9n0A8vBP9"
      }
    },
    {
      "cell_type": "code",
      "source": [
        "dfmodel = df\n",
        "dfmodel = dfmodel.drop(columns=['target_ad_ltv_day30', 'target_iap_ltv_day30', 'target_iap_ltv_day30','install_date'])"
      ],
      "metadata": {
        "id": "loZmMa7UqzRT"
      },
      "execution_count": null,
      "outputs": []
    },
    {
      "cell_type": "markdown",
      "source": [
        "Проводимо повторну перевірку \n"
      ],
      "metadata": {
        "id": "Wr9JpUFXQe0k"
      }
    },
    {
      "cell_type": "code",
      "source": [
        "dfmodel.info()"
      ],
      "metadata": {
        "colab": {
          "base_uri": "https://localhost:8080/"
        },
        "id": "PEB_3bbawq2y",
        "outputId": "2fa7fe16-1244-41ac-90da-ce8c88cfb8da"
      },
      "execution_count": null,
      "outputs": [
        {
          "output_type": "stream",
          "name": "stdout",
          "text": [
            "<class 'pandas.core.frame.DataFrame'>\n",
            "RangeIndex: 1467832 entries, 0 to 1467831\n",
            "Data columns (total 60 columns):\n",
            " #   Column                      Non-Null Count    Dtype  \n",
            "---  ------                      --------------    -----  \n",
            " 0   total_sessions_day0         1466467 non-null  float64\n",
            " 1   total_sessions_day1         1466465 non-null  float64\n",
            " 2   total_sessions_day3         1466464 non-null  float64\n",
            " 3   total_sessions_day7         1466458 non-null  float64\n",
            " 4   chapters_finished_day0      1467832 non-null  int64  \n",
            " 5   chapters_finished_day1      1467832 non-null  int64  \n",
            " 6   chapters_finished_day3      1467832 non-null  int64  \n",
            " 7   chapters_finished_day7      1467832 non-null  int64  \n",
            " 8   chapters_opened_day0        1467832 non-null  int64  \n",
            " 9   chapters_opened_day1        1467832 non-null  int64  \n",
            " 10  chapters_opened_day3        1467832 non-null  int64  \n",
            " 11  chapters_opened_day7        1467832 non-null  int64  \n",
            " 12  chapters_closed_day0        1467832 non-null  int64  \n",
            " 13  chapters_closed_day1        1467832 non-null  int64  \n",
            " 14  chapters_closed_day3        1467832 non-null  int64  \n",
            " 15  chapters_closed_day7        1467832 non-null  int64  \n",
            " 16  diamonds_received_day0      1467832 non-null  int64  \n",
            " 17  diamonds_received_day1      1467832 non-null  int64  \n",
            " 18  diamonds_received_day3      1467832 non-null  int64  \n",
            " 19  diamonds_received_day7      1467832 non-null  int64  \n",
            " 20  diamonds_spent_day0         1467832 non-null  int64  \n",
            " 21  diamonds_spent_day1         1467832 non-null  int64  \n",
            " 22  diamonds_spent_day3         1467832 non-null  int64  \n",
            " 23  diamonds_spent_day7         1467832 non-null  int64  \n",
            " 24  tickets_spent_day0          1467832 non-null  int64  \n",
            " 25  tickets_spent_day1          1467832 non-null  int64  \n",
            " 26  tickets_spent_day3          1467832 non-null  int64  \n",
            " 27  tickets_spent_day7          1467832 non-null  int64  \n",
            " 28  retained_day1               1467832 non-null  int64  \n",
            " 29  retained_day3               1467832 non-null  int64  \n",
            " 30  retained_day7               1467832 non-null  int64  \n",
            " 31  chapters_finished_session1  1467832 non-null  int64  \n",
            " 32  chapters_finished_session3  1467832 non-null  int64  \n",
            " 33  chapters_finished_session9  1467832 non-null  int64  \n",
            " 34  chapters_opened_session1    1467832 non-null  int64  \n",
            " 35  chapters_opened_session3    1467832 non-null  int64  \n",
            " 36  chapters_opened_session9    1467832 non-null  int64  \n",
            " 37  chapters_closed_session1    1467832 non-null  int64  \n",
            " 38  chapters_closed_session3    1467832 non-null  int64  \n",
            " 39  chapters_closed_session9    1467832 non-null  int64  \n",
            " 40  diamonds_spent_session1     1467832 non-null  int64  \n",
            " 41  diamonds_spent_session3     1467832 non-null  int64  \n",
            " 42  diamonds_spent_session9     1467832 non-null  int64  \n",
            " 43  tickets_spent_session1      1467832 non-null  int64  \n",
            " 44  tickets_spent_session3      1467832 non-null  int64  \n",
            " 45  tickets_spent_session9      1467832 non-null  int64  \n",
            " 46  app_sub_ltv_day0            1467832 non-null  float64\n",
            " 47  app_sub_ltv_day1            1467832 non-null  float64\n",
            " 48  app_sub_ltv_day3            1467832 non-null  float64\n",
            " 49  app_iap_ltv_day0            1467832 non-null  float64\n",
            " 50  app_iap_ltv_day1            1467832 non-null  float64\n",
            " 51  app_iap_ltv_day3            1467832 non-null  float64\n",
            " 52  media_source                1467832 non-null  object \n",
            " 53  country_code                1467832 non-null  object \n",
            " 54  ad_ltv_day0                 1467832 non-null  float64\n",
            " 55  ad_ltv_day1                 1467832 non-null  float64\n",
            " 56  ad_ltv_day3                 1467832 non-null  float64\n",
            " 57  platform                    1467832 non-null  object \n",
            " 58  target_sub_ltv_day30        1467832 non-null  float64\n",
            " 59  target_full_ltv_day30       1467832 non-null  float64\n",
            "dtypes: float64(15), int64(42), object(3)\n",
            "memory usage: 671.9+ MB\n"
          ]
        }
      ]
    },
    {
      "cell_type": "markdown",
      "source": [
        "Отримали як результат перевірку значень та типу даних перемінних.\n",
        "\n",
        "Проводимо енкодінг даних, для того щоб наша модель могла працювати з ними."
      ],
      "metadata": {
        "id": "LHVYF6te0oey"
      }
    },
    {
      "cell_type": "code",
      "source": [
        "from sklearn.preprocessing import LabelEncoder\n",
        "le=LabelEncoder()\n",
        "dfmodel['media_source']=le.fit_transform(dfmodel['media_source'])\n",
        "dfmodel['country_code']=le.fit_transform(dfmodel['country_code'])\n",
        "dfmodel['platform']=le.fit_transform(dfmodel['platform'])\n",
        "dfmodel.fillna(0, inplace=True)"
      ],
      "metadata": {
        "id": "OmhrIlKwwvWc"
      },
      "execution_count": null,
      "outputs": []
    },
    {
      "cell_type": "code",
      "source": [
        "from sklearn.pipeline import make_pipeline, Pipeline\n",
        "from sklearn.preprocessing import MinMaxScaler, StandardScaler\n",
        "from sklearn.linear_model import LinearRegression\n",
        "from sklearn.linear_model import LogisticRegression\n",
        "from sklearn.metrics import mean_squared_error\n",
        "from lightgbm import LGBMRegressor\n",
        "from sklearn.model_selection import train_test_split, KFold"
      ],
      "metadata": {
        "id": "l4YfNMzivASd",
        "colab": {
          "base_uri": "https://localhost:8080/"
        },
        "outputId": "7dd33035-326d-4d9d-f89b-0fabc39cef96"
      },
      "execution_count": null,
      "outputs": [
        {
          "output_type": "stream",
          "name": "stderr",
          "text": [
            "/usr/local/lib/python3.7/dist-packages/lightgbm/__init__.py:30: ResourceWarning: unclosed file <_io.TextIOWrapper name='/usr/local/lib/python3.7/dist-packages/lightgbm/VERSION.txt' mode='r' encoding='UTF-8'>\n",
            "  __version__ = open(os.path.join(dir_path, 'VERSION.txt')).read().strip()\n",
            "ResourceWarning: Enable tracemalloc to get the object allocation traceback\n"
          ]
        }
      ]
    },
    {
      "cell_type": "markdown",
      "source": [
        "Прогнозувати ми будемо колонку target_full_ltv_day30.\n",
        "\n",
        "Ділимо наші дані на тестову та тренувальну вибірки з поділом 15% та 85% відповідно."
      ],
      "metadata": {
        "id": "0IcFGkVJwIWw"
      }
    },
    {
      "cell_type": "code",
      "source": [
        "X = dfmodel.drop(\"target_full_ltv_day30\",axis=1)\n",
        "Y = dfmodel['target_full_ltv_day30']"
      ],
      "metadata": {
        "id": "FLE9jZxIvhpr"
      },
      "execution_count": null,
      "outputs": []
    },
    {
      "cell_type": "code",
      "source": [
        "train, test, target_train, target_test = train_test_split(X, Y, test_size=0.15,random_state=42)"
      ],
      "metadata": {
        "id": "2dmvEkvmx-Qp"
      },
      "execution_count": null,
      "outputs": []
    },
    {
      "cell_type": "markdown",
      "source": [
        "Тепер для покращення результатів роботи алгоритму в майбутньому поділимо тренувальний датасет на валідаційний з розділом на 75% та 25%.\n",
        "Також введемо random_state=42 для того щоб уникнути неправильного розділення даних на тестову та тренувальну, щоб дані користувачів, що принесли прибуток, були і в тренувальних та в тестових вибірках."
      ],
      "metadata": {
        "id": "RD3gBpMB1PJt"
      }
    },
    {
      "cell_type": "code",
      "source": [
        "X_train, X_valid, y_train, y_valid = train_test_split(train, target_train, test_size=0.25,random_state=42)"
      ],
      "metadata": {
        "id": "FYHC3ntDvcTk"
      },
      "execution_count": null,
      "outputs": []
    },
    {
      "cell_type": "markdown",
      "source": [
        "Проведемо нормалізацію даних для спрощення роботи алгоритма та покращення результатів. Застосовуємо функцію Pipeline. Вибираємо першу модель.\n",
        "\n",
        "Проведемо первинний аналіз та порахуємо похибку RMSE для тренувальної та тестової вибірки."
      ],
      "metadata": {
        "id": "o1WoIrqX1UY1"
      }
    },
    {
      "cell_type": "code",
      "source": [
        "pipe = Pipeline([('scaler', MinMaxScaler()), ('model', LinearRegression())])\n",
        "pipe.fit(X_train, y_train)\n",
        "\n",
        "y_preds = pipe.predict(X_valid)\n",
        "# replace zeros with negatives\n",
        "y_preds = np.where(y_preds >  0, y_preds, 0)\n",
        "mean_squared_error(y_valid, y_preds, squared=False)"
      ],
      "metadata": {
        "colab": {
          "base_uri": "https://localhost:8080/"
        },
        "outputId": "67d3603d-cbe8-48ce-f811-1b47f31dfbba",
        "id": "aF5ht3ScahPh"
      },
      "execution_count": null,
      "outputs": [
        {
          "output_type": "execute_result",
          "data": {
            "text/plain": [
              "1.0395351775900732"
            ]
          },
          "metadata": {},
          "execution_count": 81
        }
      ]
    },
    {
      "cell_type": "markdown",
      "source": [
        "RMSE тестової вибірки."
      ],
      "metadata": {
        "id": "noGNecaU1qgz"
      }
    },
    {
      "cell_type": "code",
      "source": [
        "y_preds = pipe.predict(test)\n",
        "y_preds = np.where(y_preds > 0, y_preds, 0)\n",
        "mean_squared_error(target_test, y_preds, squared=False)"
      ],
      "metadata": {
        "colab": {
          "base_uri": "https://localhost:8080/"
        },
        "id": "keraxYV8wM8v",
        "outputId": "a9d21914-eb2b-424f-9dca-95f26e65a9fe"
      },
      "execution_count": null,
      "outputs": [
        {
          "output_type": "execute_result",
          "data": {
            "text/plain": [
              "0.9301955165995409"
            ]
          },
          "metadata": {},
          "execution_count": 82
        }
      ]
    },
    {
      "cell_type": "code",
      "source": [
        "from sklearn.metrics import mean_squared_error\n",
        "from sklearn.metrics import mean_absolute_percentage_error\n",
        "from sklearn.metrics import mean_absolute_error\n",
        "MAPE = mean_absolute_percentage_error(target_test, y_preds)\n",
        "RMSE = mean_squared_error(target_test, y_preds, squared=False)\n",
        "MAE = mean_absolute_error(target_test, y_preds)"
      ],
      "metadata": {
        "id": "GI4FjkCyvuNu"
      },
      "execution_count": null,
      "outputs": []
    },
    {
      "cell_type": "markdown",
      "source": [
        "Основні метрики моделі:"
      ],
      "metadata": {
        "id": "Kbsl8cD97hNy"
      }
    },
    {
      "cell_type": "code",
      "source": [
        " \n",
        "print(MAPE,RMSE,MAE)"
      ],
      "metadata": {
        "colab": {
          "base_uri": "https://localhost:8080/"
        },
        "id": "1HN6P4mbvv28",
        "outputId": "be7e327f-5b76-4376-dfdc-3c1968c3e159"
      },
      "execution_count": null,
      "outputs": [
        {
          "output_type": "stream",
          "name": "stdout",
          "text": [
            "45898893001743.305 0.9301955165995409 0.09656412591453746\n"
          ]
        }
      ]
    },
    {
      "cell_type": "markdown",
      "source": [
        "Метрика МАРЕ в цьому випадку є не інформативною, бо при її підрахунку ми ділимо на значення таргету(а так як в нас багато нульових значень, то ми ділимо на нуль)\n",
        "\n",
        "Будемо спиратися на RMSE та MAE.\n",
        "\n",
        "RMSE на відміну від MAE може вказувати наскільки сильно відрізняються значення предикту від таргета(бо при підрахунку різниця значень береться у квадрат)\n",
        "\n",
        "А МАЕ це абсолютна похибка, тому на неї теж варто спиратися при аналізі роботи моделі"
      ],
      "metadata": {
        "id": "RBfsUoH38XzV"
      }
    },
    {
      "cell_type": "markdown",
      "source": [
        "Застосуєсо метод RandomForstRegressor.\n",
        "Та знайдемо RMSE тренувальної вибірки."
      ],
      "metadata": {
        "id": "NRrjohtZ1ePN"
      }
    },
    {
      "cell_type": "code",
      "source": [
        "from sklearn.ensemble import RandomForestRegressor\n",
        "from sklearn.datasets import make_regression"
      ],
      "metadata": {
        "id": "6-iB6c5qhA1I"
      },
      "execution_count": null,
      "outputs": []
    },
    {
      "cell_type": "code",
      "source": [
        "regr = RandomForestRegressor(max_depth=2, random_state=0)\n",
        "pipe = Pipeline([('scaler', MinMaxScaler()), ('model', regr)])\n",
        "pipe.fit(X_train, y_train)"
      ],
      "metadata": {
        "id": "BYgSWKNFhE3g"
      },
      "execution_count": null,
      "outputs": []
    },
    {
      "cell_type": "code",
      "source": [
        "y_preds = pipe.predict(X_valid)\n",
        "# replace zeros with negatives\n",
        "y_preds = np.where(y_preds > 0, y_preds, 0)\n",
        "mean_squared_error(y_valid, y_preds, squared=False)"
      ],
      "metadata": {
        "colab": {
          "base_uri": "https://localhost:8080/"
        },
        "id": "zpwemdQ92z_i",
        "outputId": "c0a2d726-6224-483e-c697-504bf8776f2d"
      },
      "execution_count": null,
      "outputs": [
        {
          "output_type": "execute_result",
          "data": {
            "text/plain": [
              "1.4211565511909998"
            ]
          },
          "metadata": {},
          "execution_count": 92
        }
      ]
    },
    {
      "cell_type": "markdown",
      "source": [
        "RMSE тестової вибірки."
      ],
      "metadata": {
        "id": "M3qJXSLg1oQW"
      }
    },
    {
      "cell_type": "code",
      "source": [
        "y_preds = pipe.predict(test)\n",
        "y_preds = np.where(y_preds > 0, y_preds, 0)\n",
        "mean_squared_error(target_test, y_preds, squared=False)"
      ],
      "metadata": {
        "id": "NR8mZbvULGai",
        "colab": {
          "base_uri": "https://localhost:8080/"
        },
        "outputId": "dcc1b6f7-c208-4579-8c81-268b58d2a058"
      },
      "execution_count": null,
      "outputs": [
        {
          "output_type": "execute_result",
          "data": {
            "text/plain": [
              "1.2197580785366386"
            ]
          },
          "metadata": {},
          "execution_count": 93
        }
      ]
    },
    {
      "cell_type": "code",
      "source": [
        "MAPE = mean_absolute_percentage_error(target_test, y_preds)\n",
        "RMSE = mean_squared_error(target_test, y_preds, squared=False)\n",
        "MAE = mean_absolute_error(target_test, y_preds)"
      ],
      "metadata": {
        "id": "meRrQ62Jk6nI"
      },
      "execution_count": null,
      "outputs": []
    },
    {
      "cell_type": "markdown",
      "source": [
        "Основні метрики моделі:"
      ],
      "metadata": {
        "id": "SsbgNGe57i52"
      }
    },
    {
      "cell_type": "code",
      "source": [
        "#RandomForest\n",
        "print(MAPE,RMSE,MAE)"
      ],
      "metadata": {
        "colab": {
          "base_uri": "https://localhost:8080/"
        },
        "id": "tvP7RUuJlIvi",
        "outputId": "9a2d9e5c-8934-4f28-9479-2488a9529636"
      },
      "execution_count": null,
      "outputs": [
        {
          "output_type": "stream",
          "name": "stdout",
          "text": [
            "263194706306841.6 1.2197580785366386 0.20782880750751104\n"
          ]
        }
      ]
    },
    {
      "cell_type": "markdown",
      "source": [
        "Застосуємо LGBM Model"
      ],
      "metadata": {
        "id": "JzVDf6uXLKNu"
      }
    },
    {
      "cell_type": "code",
      "source": [
        "params = {\n",
        "    'n_estimators': 400,\n",
        "    'learning_rate': 0.075,\n",
        "    'num_leaves': 255,\n",
        "    'metric': 'mse'\n",
        "}\n",
        "model = LGBMRegressor(**params)\n",
        "\n",
        "pipe = Pipeline([('scaler', MinMaxScaler()), ('model', model)])\n",
        "pipe.fit(X_train, y_train);"
      ],
      "metadata": {
        "id": "hhWxnk9byPJK"
      },
      "execution_count": null,
      "outputs": []
    },
    {
      "cell_type": "markdown",
      "source": [
        "RMSE тренувальної вибірки."
      ],
      "metadata": {
        "id": "V4aMiGfh3KG3"
      }
    },
    {
      "cell_type": "code",
      "source": [
        "y_preds = pipe.predict(X_valid)\n",
        "y_preds = np.where(y_preds > 0, y_preds, 0)\n",
        "mean_squared_error(y_valid, y_preds, squared=False)"
      ],
      "metadata": {
        "colab": {
          "base_uri": "https://localhost:8080/"
        },
        "id": "NuFYiFm3yU4C",
        "outputId": "c8e5a941-42a0-4e17-87e3-964bcad0b8e3"
      },
      "execution_count": null,
      "outputs": [
        {
          "output_type": "execute_result",
          "data": {
            "text/plain": [
              "0.9849865995634122"
            ]
          },
          "metadata": {},
          "execution_count": 95
        }
      ]
    },
    {
      "cell_type": "markdown",
      "source": [
        "RMSE тестової вибірки."
      ],
      "metadata": {
        "id": "WgGHwdXd3Oge"
      }
    },
    {
      "cell_type": "code",
      "source": [
        "y_preds = pipe.predict(test)\n",
        "y_preds = np.where(y_preds > 0, y_preds, 0)\n",
        "mean_squared_error(target_test, y_preds, squared=False)"
      ],
      "metadata": {
        "colab": {
          "base_uri": "https://localhost:8080/"
        },
        "id": "ZWo5CTpfybwH",
        "outputId": "38236cb8-14fb-4121-e555-e2fa92f5ce07"
      },
      "execution_count": null,
      "outputs": [
        {
          "output_type": "execute_result",
          "data": {
            "text/plain": [
              "0.9593363842794088"
            ]
          },
          "metadata": {},
          "execution_count": 99
        }
      ]
    },
    {
      "cell_type": "code",
      "source": [
        "MAPE = mean_absolute_percentage_error(target_test, y_preds)\n",
        "RMSE = mean_squared_error(target_test, y_preds, squared=False)\n",
        "MAE = mean_absolute_error(target_test, y_preds)"
      ],
      "metadata": {
        "id": "mTgsEHkNc7et"
      },
      "execution_count": null,
      "outputs": []
    },
    {
      "cell_type": "markdown",
      "source": [
        "Основні метрики моделі:"
      ],
      "metadata": {
        "id": "8lmDC6wPisen"
      }
    },
    {
      "cell_type": "code",
      "source": [
        "#LGBMRegression\n",
        "print(MAPE,RMSE,MAE)"
      ],
      "metadata": {
        "id": "q756CCQoexw8",
        "colab": {
          "base_uri": "https://localhost:8080/"
        },
        "outputId": "f213033f-c9b8-4be3-dc65-f87918834dc2"
      },
      "execution_count": null,
      "outputs": [
        {
          "output_type": "stream",
          "name": "stdout",
          "text": [
            "5780091601190.708 0.9593363842794088 0.06332008851019137\n"
          ]
        }
      ]
    },
    {
      "cell_type": "markdown",
      "source": [
        "При аналізі цих трьох моделей, фаворитами є LinearRegression(RMSE: 0.9301955165995409 MAE: 0.09656412591453746) та LGBM Regression(RMSE: 0.9593363842794088 MAE: 0.06332008851019137)\n",
        "\n",
        "Абсолютна похибка у останньої моделі менша, тому спробуємо зробити кросвалідацію для метода LGBM Regression."
      ],
      "metadata": {
        "id": "jWHgZvew9iLs"
      }
    },
    {
      "cell_type": "markdown",
      "source": [
        "Зробимо модель з кросвалідацією на 5 фолдів, щоб знайти оптимальную вибірку для навчання моделі."
      ],
      "metadata": {
        "id": "yzpgX3Wm2Lmr"
      }
    },
    {
      "cell_type": "code",
      "source": [
        "params = {\n",
        "    'n_estimators': 400,\n",
        "    'learning_rate': 0.075,\n",
        "    'num_leaves': 255,\n",
        "    'metric': 'mse'\n",
        "}\n",
        "model = LGBMRegressor(**params)\n",
        "\n",
        "pipe = Pipeline([('scaler', MinMaxScaler()), ('model', model)])"
      ],
      "metadata": {
        "id": "d11zc6IOzQOd"
      },
      "execution_count": null,
      "outputs": []
    },
    {
      "cell_type": "code",
      "source": [
        "n_splits = 5\n",
        "kf = KFold(n_splits=n_splits)\n",
        "\n",
        "valid_ans = np.zeros(y_valid.shape[0])\n",
        "test_ans = np.zeros(target_test.shape[0])\n",
        "current_fold = 0\n",
        "for train_index, test_index in kf.split(X_train):\n",
        "    current_fold += 1\n",
        "    print(\"Fold #\", current_fold, \"initiate...\")\n",
        "    X_train_cv, X_test_cv = X_train.iloc[train_index], X_train.iloc[test_index]\n",
        "    y_train_cv, y_test_cv = y_train.iloc[train_index], y_train.iloc[test_index]\n",
        "    pipe.fit(X_train_cv, y_train_cv)\n",
        "    y_pred_fold = pipe.predict(X_test_cv)\n",
        "    print(\"Fold MSE: \", mean_squared_error(y_test_cv, y_pred_fold))\n",
        "    valid_ans += pipe.predict(X_valid)\n",
        "    test_ans += pipe.predict(test)\n",
        "print(\"Valid prediction: \", mean_squared_error(y_valid, valid_ans / n_splits))"
      ],
      "metadata": {
        "colab": {
          "base_uri": "https://localhost:8080/"
        },
        "id": "rB3JMRykzx7K",
        "outputId": "d5148cd8-e58c-4306-997f-ad96bb3fb877"
      },
      "execution_count": null,
      "outputs": [
        {
          "output_type": "stream",
          "name": "stdout",
          "text": [
            "Fold # 1 initiate...\n",
            "Fold MSE:  0.966649623447414\n",
            "Fold # 2 initiate...\n",
            "Fold MSE:  0.9064367431307835\n",
            "Fold # 3 initiate...\n",
            "Fold MSE:  0.8309525689965284\n",
            "Fold # 4 initiate...\n",
            "Fold MSE:  0.7682935196162444\n",
            "Fold # 5 initiate...\n",
            "Fold MSE:  1.210517990715026\n",
            "Valid prediction:  0.9614668887961874\n"
          ]
        }
      ]
    },
    {
      "cell_type": "markdown",
      "source": [
        "Для подальшого прогнозування, на основі метрик було обрано дві моделі:\n",
        "LGBM Regression та LinearRegression\n",
        "\n",
        "\n"
      ],
      "metadata": {
        "id": "nNuFb9nW-o2p"
      }
    },
    {
      "cell_type": "markdown",
      "source": [
        "Імпортуємо новий датасет, який ми очистили від аномальних даних.\n",
        "Та готуємо його по аналогії з оригінальни датасетом для роботи з моделлю."
      ],
      "metadata": {
        "id": "F3cWQNzG5Ayz"
      }
    },
    {
      "cell_type": "code",
      "source": [
        "dfNew = pd.read_csv('/content/drive/MyDrive/datasets/full_set.csv')"
      ],
      "metadata": {
        "id": "28vgH7AX0FtQ"
      },
      "execution_count": null,
      "outputs": []
    },
    {
      "cell_type": "code",
      "source": [
        "dfNew = dfNew.drop(columns=['target_ad_ltv_day30', 'target_iap_ltv_day30', 'target_iap_ltv_day30','install_date'])"
      ],
      "metadata": {
        "id": "1F3vcxOmzkBK"
      },
      "execution_count": null,
      "outputs": []
    },
    {
      "cell_type": "code",
      "source": [
        "dfNew['media_source']=le.fit_transform(dfNew['media_source'])\n",
        "dfNew['country_code']=le.fit_transform(dfNew['country_code'])\n",
        "dfNew['platform']=le.fit_transform(dfNew['platform'])"
      ],
      "metadata": {
        "id": "lB1qJ1JfszPV"
      },
      "execution_count": null,
      "outputs": []
    },
    {
      "cell_type": "code",
      "source": [
        "X = dfNew.drop(\"target_full_ltv_day30\",axis=1)\n",
        "Y = dfNew['target_full_ltv_day30']"
      ],
      "metadata": {
        "id": "u6b2HMP2srEV"
      },
      "execution_count": null,
      "outputs": []
    },
    {
      "cell_type": "code",
      "source": [
        "train, test, target_train, target_test = train_test_split(X, Y, test_size=0.15,random_state=42)"
      ],
      "metadata": {
        "id": "bRys7upPsrEW"
      },
      "execution_count": null,
      "outputs": []
    },
    {
      "cell_type": "code",
      "source": [
        "X_train, X_valid, y_train, y_valid = train_test_split(train, target_train, test_size=0.25,random_state=42)"
      ],
      "metadata": {
        "id": "b6j8cqeXsrEW"
      },
      "execution_count": null,
      "outputs": []
    },
    {
      "cell_type": "markdown",
      "source": [
        "LGBM Regression:"
      ],
      "metadata": {
        "id": "WHzpSaTa-8-c"
      }
    },
    {
      "cell_type": "code",
      "source": [
        "params = {\n",
        "    'n_estimators': 400,\n",
        "    'learning_rate': 0.075,\n",
        "    'num_leaves': 255,\n",
        "    'metric': 'mse'\n",
        "}\n",
        "model = LGBMRegressor(**params)\n",
        "\n",
        "pipe = Pipeline([('scaler', MinMaxScaler()), ('model', model)])\n",
        "pipe.fit(X_train, y_train);"
      ],
      "metadata": {
        "id": "lkuhB_odsrEW"
      },
      "execution_count": null,
      "outputs": []
    },
    {
      "cell_type": "markdown",
      "source": [
        "RMSE тренувальної вибірки."
      ],
      "metadata": {
        "id": "5A05vgLK_Pbr"
      }
    },
    {
      "cell_type": "code",
      "source": [
        "y_preds = pipe.predict(X_valid)\n",
        "y_preds = np.where(y_preds > 0, y_preds, 0)\n",
        "mean_squared_error(y_valid, y_preds, squared=False)"
      ],
      "metadata": {
        "colab": {
          "base_uri": "https://localhost:8080/"
        },
        "outputId": "d8e7c01d-ad24-4eda-ec51-7b45a92caae8",
        "id": "oOUO7QJUsrEW"
      },
      "execution_count": null,
      "outputs": [
        {
          "output_type": "execute_result",
          "data": {
            "text/plain": [
              "0.8768522275536376"
            ]
          },
          "metadata": {},
          "execution_count": 106
        }
      ]
    },
    {
      "cell_type": "markdown",
      "source": [
        "RMSE тестової вибірки."
      ],
      "metadata": {
        "id": "H3fW5Rh9_Ue0"
      }
    },
    {
      "cell_type": "code",
      "source": [
        "y_preds = pipe.predict(test)\n",
        "y_preds = np.where(y_preds > 0, y_preds, 0)\n",
        "mean_squared_error(target_test, y_preds, squared=False)"
      ],
      "metadata": {
        "colab": {
          "base_uri": "https://localhost:8080/"
        },
        "outputId": "0abe8b95-d026-48c2-e6e6-50517ebeb2b5",
        "id": "eZB7mwtC0WeZ"
      },
      "execution_count": null,
      "outputs": [
        {
          "output_type": "execute_result",
          "data": {
            "text/plain": [
              "0.8197823716797542"
            ]
          },
          "metadata": {},
          "execution_count": 107
        }
      ]
    },
    {
      "cell_type": "code",
      "source": [
        "MAPE = mean_absolute_percentage_error(target_test, y_preds)\n",
        "RMSE = mean_squared_error(target_test, y_preds, squared=False)\n",
        "MAE = mean_absolute_error(target_test, y_preds)"
      ],
      "metadata": {
        "id": "wN6XhYty0Wea"
      },
      "execution_count": null,
      "outputs": []
    },
    {
      "cell_type": "markdown",
      "source": [
        "Основні метрики моделі:"
      ],
      "metadata": {
        "id": "4gamzydd7l5c"
      }
    },
    {
      "cell_type": "code",
      "source": [
        " \n",
        "print(MAPE,RMSE,MAE)"
      ],
      "metadata": {
        "colab": {
          "base_uri": "https://localhost:8080/"
        },
        "outputId": "52119dce-f87c-4af6-c19c-f5771800103c",
        "id": "OF9Y_UiysrEX"
      },
      "execution_count": null,
      "outputs": [
        {
          "output_type": "stream",
          "name": "stdout",
          "text": [
            "5165392316713.884 0.8197823716797542 0.0550964166303383\n"
          ]
        }
      ]
    },
    {
      "cell_type": "markdown",
      "source": [
        "Побудуємо модель LinearRegression на новому датасеті та знайдемо RMSE тренувальної вибірки.\n"
      ],
      "metadata": {
        "id": "rPHTf27t_YUJ"
      }
    },
    {
      "cell_type": "code",
      "source": [
        "pipe = Pipeline([('scaler', MinMaxScaler()), ('model', LinearRegression())])\n",
        "pipe.fit(X_train, y_train)\n",
        "\n",
        "y_preds = pipe.predict(X_valid)\n",
        "# replace zeros with negatives\n",
        "y_preds = np.where(y_preds >  0, y_preds, 0)\n",
        "mean_squared_error(y_valid, y_preds, squared=False)"
      ],
      "metadata": {
        "colab": {
          "base_uri": "https://localhost:8080/"
        },
        "outputId": "161d1897-7cce-45c7-9d26-3b9497c8d0bb",
        "id": "ccKYGEwu0wQP"
      },
      "execution_count": null,
      "outputs": [
        {
          "output_type": "execute_result",
          "data": {
            "text/plain": [
              "0.9064899605707684"
            ]
          },
          "metadata": {},
          "execution_count": 112
        }
      ]
    },
    {
      "cell_type": "markdown",
      "source": [
        "RMSE тестової вибірки."
      ],
      "metadata": {
        "id": "673hyz8e_hX_"
      }
    },
    {
      "cell_type": "code",
      "source": [
        "y_preds = pipe.predict(test)\n",
        "y_preds = np.where(y_preds > 0, y_preds, 0)\n",
        "mean_squared_error(target_test, y_preds, squared=False)"
      ],
      "metadata": {
        "colab": {
          "base_uri": "https://localhost:8080/"
        },
        "outputId": "abafb88e-7635-4fbc-c192-76de3afa3f58",
        "id": "foETOqTo0wQQ"
      },
      "execution_count": null,
      "outputs": [
        {
          "output_type": "execute_result",
          "data": {
            "text/plain": [
              "0.8869972728909266"
            ]
          },
          "metadata": {},
          "execution_count": 113
        }
      ]
    },
    {
      "cell_type": "code",
      "source": [
        "MAPE = mean_absolute_percentage_error(target_test, y_preds)\n",
        "RMSE = mean_squared_error(target_test, y_preds, squared=False)\n",
        "MAE = mean_absolute_error(target_test, y_preds)"
      ],
      "metadata": {
        "id": "FEj1be0K0wQQ"
      },
      "execution_count": null,
      "outputs": []
    },
    {
      "cell_type": "code",
      "source": [
        " \n",
        "print(MAPE,RMSE,MAE)"
      ],
      "metadata": {
        "colab": {
          "base_uri": "https://localhost:8080/"
        },
        "outputId": "dc9abe85-fa8c-470f-ecb9-0530eff3e752",
        "id": "xTGTAUAB0wQR"
      },
      "execution_count": null,
      "outputs": [
        {
          "output_type": "stream",
          "name": "stdout",
          "text": [
            "39734203900817.93 0.8869972728909266 0.08713222472480037\n"
          ]
        }
      ]
    },
    {
      "cell_type": "markdown",
      "source": [
        "На опрацьованому датасеті результати роботи моделей значно покращилися.\n",
        "\n",
        "LinearRegression(RMSE: 0.8869972728909266 MAE: 0.08713222472480037) \n",
        "\n",
        "та LGBM Regression(RMSE: 0.8197823716797542 MAE: 0.0550964166303383)\n",
        "проти:\n",
        "\n",
        "LinearRegression(RMSE: 0.9301955165995409 MAE: 0.09656412591453746) та\n",
        "\n",
        "LGBM Regression(RMSE: 0.9593363842794088 MAE: 0.06332008851019137)\n",
        "на оригінальному датасеті.\n",
        "\n",
        "Це доводить, що гіпотеза висунунта нами під час EDA, що зміна датасета на 0.69% суттєво покращує результати роботи моделі та оптимизовує роботи алгоритму.\n",
        "\n",
        "Найкраще себе показала модель LGBM Regression, тому зробимо кросвалідацію для неї."
      ],
      "metadata": {
        "id": "Fw7ZiYBVAP9e"
      }
    },
    {
      "cell_type": "markdown",
      "source": [
        "Зробимо модель з кросвалідацією на 5 фолдів, щоб знайти оптимальную вибірку для навчання моделі."
      ],
      "metadata": {
        "id": "tFRNcWqB_xa8"
      }
    },
    {
      "cell_type": "code",
      "source": [
        "params = {\n",
        "    'n_estimators': 400,\n",
        "    'learning_rate': 0.075,\n",
        "    'num_leaves': 255,\n",
        "    'metric': 'mse'\n",
        "}\n",
        "model = LGBMRegressor(**params)\n",
        "\n",
        "pipe = Pipeline([('scaler', MinMaxScaler()), ('model', model)])"
      ],
      "metadata": {
        "id": "w1XI0zoO64Ms"
      },
      "execution_count": null,
      "outputs": []
    },
    {
      "cell_type": "code",
      "source": [
        "n_splits = 5\n",
        "kf = KFold(n_splits=n_splits)\n",
        "\n",
        "valid_ans = np.zeros(y_valid.shape[0])\n",
        "test_ans = np.zeros(target_test.shape[0])\n",
        "current_fold = 0\n",
        "for train_index, test_index in kf.split(X_train):\n",
        "    current_fold += 1\n",
        "    print(\"Fold #\", current_fold, \"initiate...\")\n",
        "    X_train_cv, X_test_cv = X_train.iloc[train_index], X_train.iloc[test_index]\n",
        "    y_train_cv, y_test_cv = y_train.iloc[train_index], y_train.iloc[test_index]\n",
        "    pipe.fit(X_train_cv, y_train_cv)\n",
        "    y_pred_fold = pipe.predict(X_test_cv)\n",
        "    print(\"Fold MSE: \", mean_squared_error(y_test_cv, y_pred_fold, squared=False))\n",
        "    valid_ans += pipe.predict(X_valid)\n",
        "    test_ans += pipe.predict(test)\n",
        "print(\"Valid prediction: \", mean_squared_error(y_valid, valid_ans / n_splits))"
      ],
      "metadata": {
        "colab": {
          "base_uri": "https://localhost:8080/"
        },
        "outputId": "a7a3f801-b897-4d6f-f3b2-345de001c2fb",
        "id": "XuLlcJzT64Ms"
      },
      "execution_count": null,
      "outputs": [
        {
          "output_type": "stream",
          "name": "stdout",
          "text": [
            "Fold # 1 initiate...\n",
            "Fold MSE:  0.781239118937473\n",
            "Fold # 2 initiate...\n",
            "Fold MSE:  0.8646904078752004\n",
            "Fold # 3 initiate...\n",
            "Fold MSE:  0.8383111013094852\n",
            "Fold # 4 initiate...\n",
            "Fold MSE:  0.9112444933841288\n",
            "Fold # 5 initiate...\n",
            "Fold MSE:  0.8805763697552573\n",
            "Valid prediction:  0.7358943120103927\n"
          ]
        }
      ]
    },
    {
      "cell_type": "code",
      "source": [
        "y_preds = pipe.predict(test)\n",
        "y_preds = np.where(y_preds > 0, y_preds, 0)\n",
        "mean_squared_error(target_test, y_preds, squared=False)"
      ],
      "metadata": {
        "colab": {
          "base_uri": "https://localhost:8080/"
        },
        "outputId": "c7d023bb-5259-4df3-de38-6295a10ef3fb",
        "id": "mJI12cj9Byqo"
      },
      "execution_count": null,
      "outputs": [
        {
          "output_type": "execute_result",
          "data": {
            "text/plain": [
              "0.806829211389713"
            ]
          },
          "metadata": {},
          "execution_count": 120
        }
      ]
    },
    {
      "cell_type": "code",
      "source": [
        "MAPE = mean_absolute_percentage_error(target_test, y_preds)\n",
        "RMSE = mean_squared_error(target_test, y_preds, squared=False)\n",
        "MAE = mean_absolute_error(target_test, y_preds)"
      ],
      "metadata": {
        "id": "ZihBVmozByqp"
      },
      "execution_count": null,
      "outputs": []
    },
    {
      "cell_type": "markdown",
      "source": [
        "###**Метрики**###\n"
      ],
      "metadata": {
        "id": "7OZZRZJ5FZVs"
      }
    },
    {
      "cell_type": "code",
      "source": [
        " \n",
        "print(MAPE,RMSE,MAE)"
      ],
      "metadata": {
        "colab": {
          "base_uri": "https://localhost:8080/"
        },
        "outputId": "acabd3d0-a65a-4423-922f-5ca9f0f0b9f9",
        "id": "TR-kiJtHByqp"
      },
      "execution_count": null,
      "outputs": [
        {
          "output_type": "stream",
          "name": "stdout",
          "text": [
            "5474181046390.7705 0.806829211389713 0.056573250053303666\n"
          ]
        }
      ]
    },
    {
      "cell_type": "code",
      "source": [
        "import joblib\n",
        "# save model\n",
        "joblib.dump(model, 'lgb.pkl')"
      ],
      "metadata": {
        "colab": {
          "base_uri": "https://localhost:8080/"
        },
        "id": "5gr85qvBFwx_",
        "outputId": "9a958c8d-171a-4cac-85d7-e50bf8c193c2"
      },
      "execution_count": null,
      "outputs": [
        {
          "output_type": "execute_result",
          "data": {
            "text/plain": [
              "['lgb.pkl']"
            ]
          },
          "metadata": {},
          "execution_count": 127
        }
      ]
    },
    {
      "cell_type": "markdown",
      "source": [
        "Метрика МАРЕ в цьому випадку є не інформативною, бо при її підрахунку ми ділимо на значення таргету(а так як в нас багато нульових значень, то ми ділимо на нуль)\n",
        "\n",
        "RMSE ми вибираємо як основну, через її природу, оскільки вона гарно відпрацьовує на великих викидах, що підходить нам черз тип задачі.\n",
        "MAE будемо використовувати як допоміжну метрику для аналізу якості моделі."
      ],
      "metadata": {
        "id": "cgWHBwIpFmkT"
      }
    },
    {
      "cell_type": "markdown",
      "source": [
        "###**Важливість фіч**###"
      ],
      "metadata": {
        "id": "K8dJ7l8oHetN"
      }
    },
    {
      "cell_type": "markdown",
      "source": [
        "Провевши навчання моделі та отримавши перші результати ми можемо проаналізувати важливість \"фіч\" для прогнозування вибраних нами значень."
      ],
      "metadata": {
        "id": "cviZx86qLOP5"
      }
    },
    {
      "cell_type": "code",
      "source": [
        "importance_LGB = model.feature_importances_\n",
        "for i,v in enumerate(importance_LGB):\n",
        "    print('Feature: %0d, Score: %.6f' % (i, v))"
      ],
      "metadata": {
        "colab": {
          "base_uri": "https://localhost:8080/"
        },
        "id": "Gbj4kd2pbc2x",
        "outputId": "bc53cc7a-0a10-4c09-8a67-31708258b2d0"
      },
      "execution_count": null,
      "outputs": [
        {
          "output_type": "stream",
          "name": "stdout",
          "text": [
            "Feature: 0, Score: 1449.000000\n",
            "Feature: 1, Score: 1864.000000\n",
            "Feature: 2, Score: 2320.000000\n",
            "Feature: 3, Score: 3447.000000\n",
            "Feature: 4, Score: 1012.000000\n",
            "Feature: 5, Score: 984.000000\n",
            "Feature: 6, Score: 1358.000000\n",
            "Feature: 7, Score: 2326.000000\n",
            "Feature: 8, Score: 919.000000\n",
            "Feature: 9, Score: 967.000000\n",
            "Feature: 10, Score: 1274.000000\n",
            "Feature: 11, Score: 1874.000000\n",
            "Feature: 12, Score: 608.000000\n",
            "Feature: 13, Score: 719.000000\n",
            "Feature: 14, Score: 1067.000000\n",
            "Feature: 15, Score: 2060.000000\n",
            "Feature: 16, Score: 2078.000000\n",
            "Feature: 17, Score: 2286.000000\n",
            "Feature: 18, Score: 3027.000000\n",
            "Feature: 19, Score: 3572.000000\n",
            "Feature: 20, Score: 1865.000000\n",
            "Feature: 21, Score: 1992.000000\n",
            "Feature: 22, Score: 2766.000000\n",
            "Feature: 23, Score: 4816.000000\n",
            "Feature: 24, Score: 1560.000000\n",
            "Feature: 25, Score: 1155.000000\n",
            "Feature: 26, Score: 1686.000000\n",
            "Feature: 27, Score: 3499.000000\n",
            "Feature: 28, Score: 249.000000\n",
            "Feature: 29, Score: 272.000000\n",
            "Feature: 30, Score: 682.000000\n",
            "Feature: 31, Score: 556.000000\n",
            "Feature: 32, Score: 1010.000000\n",
            "Feature: 33, Score: 1460.000000\n",
            "Feature: 34, Score: 646.000000\n",
            "Feature: 35, Score: 903.000000\n",
            "Feature: 36, Score: 1496.000000\n",
            "Feature: 37, Score: 240.000000\n",
            "Feature: 38, Score: 701.000000\n",
            "Feature: 39, Score: 1497.000000\n",
            "Feature: 40, Score: 1805.000000\n",
            "Feature: 41, Score: 3043.000000\n",
            "Feature: 42, Score: 6186.000000\n",
            "Feature: 43, Score: 479.000000\n",
            "Feature: 44, Score: 846.000000\n",
            "Feature: 45, Score: 1804.000000\n",
            "Feature: 46, Score: 93.000000\n",
            "Feature: 47, Score: 137.000000\n",
            "Feature: 48, Score: 890.000000\n",
            "Feature: 49, Score: 2029.000000\n",
            "Feature: 50, Score: 1990.000000\n",
            "Feature: 51, Score: 4200.000000\n",
            "Feature: 52, Score: 1575.000000\n",
            "Feature: 53, Score: 863.000000\n",
            "Feature: 54, Score: 2518.000000\n",
            "Feature: 55, Score: 2033.000000\n",
            "Feature: 56, Score: 3037.000000\n",
            "Feature: 57, Score: 305.000000\n",
            "Feature: 58, Score: 3505.000000\n"
          ]
        }
      ]
    },
    {
      "cell_type": "markdown",
      "source": [
        "З отриманих результатів можемо зробити висновки стосовно важливості зміних.\n",
        "А саме \n",
        "Feature: 42, Score: 6186.000000, diamonds_spent_session9\n",
        "Feature: 23, Score: 4816.000000, diamonds_spent_day7\n",
        "Feature: 51, Score: 4200.000000, app_iap_ltv_day3\n",
        "Feature: 19, Score: 3572.000000, diamonds_received_day7\n",
        "Feature: 58, Score: 3505.000000, target_sub_ltv_day30\n",
        "Feature: 27, Score: 3499.000000, tickets_spent_day7\n",
        "\n",
        "Згадуючи значення змінних можемо сказати, що схожі дані ми отримали під час проведення EDA аналізу. Це показує що алгоритм правильно знаходить та показує взаємозвязки. Це доводить, що алгоритм був правильно натренований."
      ],
      "metadata": {
        "id": "vi6LjheKkUVf"
      }
    },
    {
      "cell_type": "markdown",
      "source": [
        "###**Висновки**###"
      ],
      "metadata": {
        "id": "TjADBwk2Holc"
      }
    },
    {
      "cell_type": "markdown",
      "source": [
        "Висновками цієї роботи ми можемо винести результати роботи нашого алгоритму, а саме\n",
        "\n",
        "LGBM Regression з резудьтами роботи \n",
        "RMSE = 0.806829211389713\n",
        "MAE = 0.056573250053303666\n",
        "\n",
        "Також була підтверджена гіпотеза стосвно негативного впливу неправильнних даних та показана суттєва різниця результатів після обробки датасету.\n",
        "\n",
        "Провели крос валідацію для вибору найкращого набору датасету.\n",
        "\n",
        "Перевірили правильність роботи алгоритму за дпопомгою перевірки важливості фіч, де довели, що доходи від клієнта залежать в основному від кристалів. Також це було в висновках EDA аналізу.\n",
        "\n",
        "Best regards, team Checkinst"
      ],
      "metadata": {
        "id": "oU8grEqBHz_b"
      }
    }
  ]
}